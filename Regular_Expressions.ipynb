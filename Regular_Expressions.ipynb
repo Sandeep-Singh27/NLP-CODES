{
  "nbformat": 4,
  "nbformat_minor": 0,
  "metadata": {
    "colab": {
      "provenance": [],
      "authorship_tag": "ABX9TyO+nSTiyVzlowOB+pE2L7Yb",
      "include_colab_link": true
    },
    "kernelspec": {
      "name": "python3",
      "display_name": "Python 3"
    },
    "language_info": {
      "name": "python"
    }
  },
  "cells": [
    {
      "cell_type": "markdown",
      "metadata": {
        "id": "view-in-github",
        "colab_type": "text"
      },
      "source": [
        "<a href=\"https://colab.research.google.com/github/Sandeep-Singh27/NLP-CODES/blob/main/Regular_Expressions.ipynb\" target=\"_parent\"><img src=\"https://colab.research.google.com/assets/colab-badge.svg\" alt=\"Open In Colab\"/></a>"
      ]
    },
    {
      "cell_type": "markdown",
      "source": [
        "# **Importing library re for regular expression**"
      ],
      "metadata": {
        "id": "vbnYwgDUGqr_"
      }
    },
    {
      "cell_type": "code",
      "execution_count": 160,
      "metadata": {
        "id": "wCd0TP4_S2JR"
      },
      "outputs": [],
      "source": [
        "#library for regex or regular expression is re\n",
        "import re"
      ]
    },
    {
      "cell_type": "code",
      "source": [
        "text = \"\"\"\n",
        "my phone number is 9302275869 and email is sandeepsingh00407@gmail.com\n",
        "my phone number and email are (930)-227-5689 code777red8@gmail.com\n",
        "my details are +91 9770567658 , bhumloo6969@hemails.com\n",
        "\"\"\"\n",
        "\n",
        "text2 = \"\"\"\n",
        "i asked for a pen as a order , my order id was 1234567890\n",
        "i ordered a mobile with id #0987654321\n",
        "my order 4356879023 got stolen\n",
        "\"\"\""
      ],
      "metadata": {
        "id": "M5ZPqWNfXATq"
      },
      "execution_count": 161,
      "outputs": []
    },
    {
      "cell_type": "code",
      "source": [
        "mobile_pattern = \"\\d{10}|\\(\\d{3}\\)-\\d{3}-\\d{4}|\\+\\d+\\s*\\d{10}\"\n",
        "email_pattern = \"[a-z0-9A-Z]{1,64}@[^.]+.com\"\n",
        "order_id_pattern = \"order.*(\\d{10})\""
      ],
      "metadata": {
        "id": "ajaQbtatXtnc"
      },
      "execution_count": 162,
      "outputs": []
    },
    {
      "cell_type": "markdown",
      "source": [
        "# **re.findall() function**"
      ],
      "metadata": {
        "id": "7Iz9sf1eHJod"
      }
    },
    {
      "cell_type": "code",
      "source": [
        "mobile_no_data = re.findall(mobile_pattern,text)\n",
        "email_data = re.findall(email_pattern,text)\n",
        "order_id_data = re.findall(order_id_pattern,text2)"
      ],
      "metadata": {
        "id": "8T1TxzTYADez"
      },
      "execution_count": 163,
      "outputs": []
    },
    {
      "cell_type": "code",
      "source": [
        "mobile_no_data"
      ],
      "metadata": {
        "colab": {
          "base_uri": "https://localhost:8080/"
        },
        "id": "uFw3xfBQYcor",
        "outputId": "e9603ea9-1f39-42c3-8c13-595bba29ca4b"
      },
      "execution_count": 164,
      "outputs": [
        {
          "output_type": "execute_result",
          "data": {
            "text/plain": [
              "['9302275869', '(930)-227-5689', '+91 9770567658']"
            ]
          },
          "metadata": {},
          "execution_count": 164
        }
      ]
    },
    {
      "cell_type": "code",
      "source": [
        "email_data"
      ],
      "metadata": {
        "colab": {
          "base_uri": "https://localhost:8080/"
        },
        "id": "Y0D0-d20xOL4",
        "outputId": "1ca9c6cd-9597-4b14-e52a-a2e21a11c48e"
      },
      "execution_count": 165,
      "outputs": [
        {
          "output_type": "execute_result",
          "data": {
            "text/plain": [
              "['sandeepsingh00407@gmail.com',\n",
              " 'code777red8@gmail.com',\n",
              " 'bhumloo6969@hemails.com']"
            ]
          },
          "metadata": {},
          "execution_count": 165
        }
      ]
    },
    {
      "cell_type": "code",
      "source": [
        "order_id_data"
      ],
      "metadata": {
        "colab": {
          "base_uri": "https://localhost:8080/"
        },
        "id": "H0f2k1dFAR1B",
        "outputId": "3876b05c-180a-4bb5-d2ad-080b1fe15761"
      },
      "execution_count": 166,
      "outputs": [
        {
          "output_type": "execute_result",
          "data": {
            "text/plain": [
              "['1234567890', '0987654321', '4356879023']"
            ]
          },
          "metadata": {},
          "execution_count": 166
        }
      ]
    },
    {
      "cell_type": "markdown",
      "source": [
        "# **Trying to extract info of elon musk**"
      ],
      "metadata": {
        "id": "LG-LW_jKFppY"
      }
    },
    {
      "cell_type": "code",
      "source": [
        "wiki_text = \"\"\"\n",
        "Born\tElon Reeve Musk\n",
        "June 28, 1971 (age 53)\n",
        "Pretoria, Transvaal, South Africa\n",
        "Citizenship\n",
        "South Africa\n",
        "Canada\n",
        "United States (from 2002)\n",
        "Education\n",
        "University of Pennsylvania (BA, BS)\n",
        "Title\n",
        "Founder, CEO, and chief engineer of SpaceX\n",
        "CEO and product architect of Tesla, Inc.\n",
        "Owner, CTO and executive chairman of X (formerly Twitter)\n",
        "President of the Musk Foundation\n",
        "Founder of The Boring Company, X Corp., and xAI\n",
        "Co-founder of Neuralink, OpenAI, Zip2, and X.com (part of PayPal)\n",
        "Spouses\n",
        "Justine Wilson\n",
        "​\n",
        "​(m. 2000; div. 2008)​\n",
        "Talulah Riley\n",
        "​\n",
        "​(m. 2010; div. 2012)​\n",
        "​\n",
        "​(m. 2013; div. 2016)​\n",
        "Partners\n",
        "Grimes (2018–2021)[1]\n",
        "Children\t12[2]\n",
        "Parents\n",
        "Errol Musk\n",
        "Maye Musk\n",
        "Relatives\n",
        "Kimbal Musk (brother)\n",
        "Tosca Musk (sister)\n",
        "Lyndon Rive (cousin)\n",
        "\"\"\""
      ],
      "metadata": {
        "id": "V6BLtZPMDBW0"
      },
      "execution_count": 167,
      "outputs": []
    },
    {
      "cell_type": "code",
      "source": [
        "wiki_age_pattern = \"\\(age\\s(\\d+)\\)\"\n",
        "wiki_name_pattern = \"Born\\s([A-Za-z\\s]+)\\n\"\n",
        "wiki_DOB_pattern = \"([A-Za-z]+) (\\d+), (\\d+) \\(age \\d+\\)\"\n",
        "wiki_birthplace_pattern = \"\\(age \\d+\\)\\n([^\\n]+)\\n\""
      ],
      "metadata": {
        "id": "1Pya5JmmGBlO"
      },
      "execution_count": 168,
      "outputs": []
    },
    {
      "cell_type": "code",
      "source": [
        "wiki_age_data = re.findall(wiki_age_pattern,wiki_text)\n",
        "wiki_age_data"
      ],
      "metadata": {
        "colab": {
          "base_uri": "https://localhost:8080/"
        },
        "id": "BrLE4kDyGkrG",
        "outputId": "fd1e6640-a40d-4a9f-85db-fbccaba20d2d"
      },
      "execution_count": 169,
      "outputs": [
        {
          "output_type": "execute_result",
          "data": {
            "text/plain": [
              "['53']"
            ]
          },
          "metadata": {},
          "execution_count": 169
        }
      ]
    },
    {
      "cell_type": "code",
      "source": [
        "wiki_name_data = re.findall(wiki_name_pattern,wiki_text)\n",
        "wiki_name_data"
      ],
      "metadata": {
        "colab": {
          "base_uri": "https://localhost:8080/"
        },
        "id": "imcm4lHpLsM4",
        "outputId": "0794a04c-f5fd-41d1-88f8-ae928ef77ea7"
      },
      "execution_count": 170,
      "outputs": [
        {
          "output_type": "execute_result",
          "data": {
            "text/plain": [
              "['Elon Reeve Musk']"
            ]
          },
          "metadata": {},
          "execution_count": 170
        }
      ]
    },
    {
      "cell_type": "code",
      "source": [
        "wiki_DOB_data_tuple = re.findall(wiki_DOB_pattern,wiki_text)\n",
        "wiki_DOB_data_tuple"
      ],
      "metadata": {
        "colab": {
          "base_uri": "https://localhost:8080/"
        },
        "id": "y6bhVFATN3a-",
        "outputId": "cbdd0274-950b-43ad-9e0b-6dedd89dae13"
      },
      "execution_count": 171,
      "outputs": [
        {
          "output_type": "execute_result",
          "data": {
            "text/plain": [
              "[('June', '28', '1971')]"
            ]
          },
          "metadata": {},
          "execution_count": 171
        }
      ]
    },
    {
      "cell_type": "code",
      "source": [
        "wiki_birthplace_data = re.findall(wiki_birthplace_pattern,wiki_text)\n",
        "wiki_birthplace_data"
      ],
      "metadata": {
        "colab": {
          "base_uri": "https://localhost:8080/"
        },
        "id": "qnvgapOALBzk",
        "outputId": "1e625b8a-6824-4781-de04-849981dc9810"
      },
      "execution_count": 172,
      "outputs": [
        {
          "output_type": "execute_result",
          "data": {
            "text/plain": [
              "['Pretoria, Transvaal, South Africa']"
            ]
          },
          "metadata": {},
          "execution_count": 172
        }
      ]
    },
    {
      "cell_type": "markdown",
      "source": [
        "# **Writing a function that returns all the personal info from wikipedia right side text**"
      ],
      "metadata": {
        "id": "q4bWYcnLVeXu"
      }
    },
    {
      "cell_type": "code",
      "source": [
        "global corpus\n",
        "corpus = \"\"\"\n",
        "44th President of the United States\n",
        "In office\n",
        "January 20, 2009 – January 20, 2017\n",
        "Vice President\tJoe Biden\n",
        "Preceded by\tGeorge W. Bush\n",
        "Succeeded by\tDonald Trump\n",
        "United States Senator\n",
        "from Illinois\n",
        "In office\n",
        "January 3, 2005 – November 16, 2008\n",
        "Preceded by\tPeter Fitzgerald\n",
        "Succeeded by\tRoland Burris\n",
        "Member of the Illinois Senate\n",
        "from the 13th district\n",
        "In office\n",
        "January 8, 1997 – November 4, 2004\n",
        "Preceded by\tAlice Palmer\n",
        "Succeeded by\tKwame Raoul\n",
        "Personal details\n",
        "Born\tBarack Hussein Obama II\n",
        "August 4, 1961 (age 63)\n",
        "Honolulu, Hawaii, U.S.\n",
        "Political party\tDemocratic\n",
        "Spouse\tMichelle Robinson ​(m. 1992)​\n",
        "Children\n",
        "MaliaSasha\n",
        "Parents\n",
        "Barack Obama Sr.\n",
        "Ann Dunham\n",
        "Relatives\tObama family\n",
        "Education\n",
        "Columbia University (BA)\n",
        "Harvard University (JD)\n",
        "Occupation\n",
        "Politicianlawyerauthor\n",
        "\"\"\""
      ],
      "metadata": {
        "id": "pyripf2dTMQk"
      },
      "execution_count": 173,
      "outputs": []
    },
    {
      "cell_type": "markdown",
      "source": [
        "#  **Regular expressions**"
      ],
      "metadata": {
        "id": "uQ70xmm_V-lW"
      }
    },
    {
      "cell_type": "code",
      "source": [
        "global age_pattern\n",
        "global name_pattern\n",
        "global DOB_pattern\n",
        "global birthplace_pattern\n",
        "age_pattern = \"\\(age\\s(\\d+)\\)\"\n",
        "name_pattern = \"Born\\s([A-Za-z\\s]+)\\n\"\n",
        "DOB_pattern = \"([A-Za-z]+) (\\d+), (\\d+) \\(age \\d+\\)\"\n",
        "birthplace_pattern = \"\\(age \\d+\\)\\n([^\\n]+)\\n\""
      ],
      "metadata": {
        "id": "cNC-uYKyV9mf"
      },
      "execution_count": 174,
      "outputs": []
    },
    {
      "cell_type": "markdown",
      "source": [
        "# **Function Definition**"
      ],
      "metadata": {
        "id": "7Im_O6HPYId7"
      }
    },
    {
      "cell_type": "code",
      "source": [
        "def get_personal_info():\n",
        "  info = dict()\n",
        "  info[\"Name\"] = re.findall(name_pattern,corpus)[0]\n",
        "  info[\"Age\"] = re.findall(age_pattern,corpus)[0]\n",
        "  info[\"Date of Birth\"] = re.findall(DOB_pattern,corpus)[0]\n",
        "  info[\"Birthplace\"] = re.findall(birthplace_pattern,corpus)[0]\n",
        "  return info"
      ],
      "metadata": {
        "id": "pUs5hpVZVeL2"
      },
      "execution_count": 175,
      "outputs": []
    },
    {
      "cell_type": "code",
      "source": [
        "get_personal_info()"
      ],
      "metadata": {
        "colab": {
          "base_uri": "https://localhost:8080/"
        },
        "id": "ov0OcoioYNkP",
        "outputId": "d25f4aba-fe21-4f85-ba33-7d3d8ad1335c"
      },
      "execution_count": 176,
      "outputs": [
        {
          "output_type": "execute_result",
          "data": {
            "text/plain": [
              "{'Name': 'Barack Hussein Obama II',\n",
              " 'Age': '63',\n",
              " 'Date of Birth': ('August', '4', '1961'),\n",
              " 'Birthplace': 'Honolulu, Hawaii, U.S.'}"
            ]
          },
          "metadata": {},
          "execution_count": 176
        }
      ]
    }
  ]
}